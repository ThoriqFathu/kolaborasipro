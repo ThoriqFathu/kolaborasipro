{
 "cells": [
  {
   "attachments": {},
   "cell_type": "markdown",
   "metadata": {},
   "source": [
    "kelas = PSD C\n",
    "Ketua : \n",
    "Nama = Muhammad Fathuthoriq\n",
    "Link Github = https://github.com/ThoriqFathu/kolaborasipro\n",
    "NIM = 200411100021\n",
    "Anggota :\n",
    "Nama = Alifnur Fathurrahman Prasodjo\n",
    "NIM = 200411100150\n"
   ]
  },
  {
   "cell_type": "code",
   "execution_count": 144,
   "metadata": {},
   "outputs": [
    {
     "name": "stdout",
     "output_type": "stream",
     "text": [
      "Requirement already satisfied: pandas in /home/ubuntu/.local/lib/python3.8/site-packages (2.0.2)\n",
      "Requirement already satisfied: python-dateutil>=2.8.2 in /home/ubuntu/.local/lib/python3.8/site-packages (from pandas) (2.8.2)\n",
      "Requirement already satisfied: numpy>=1.20.3; python_version < \"3.10\" in /home/ubuntu/.local/lib/python3.8/site-packages (from pandas) (1.24.3)\n",
      "Requirement already satisfied: tzdata>=2022.1 in /home/ubuntu/.local/lib/python3.8/site-packages (from pandas) (2023.3)\n",
      "Requirement already satisfied: pytz>=2020.1 in /home/ubuntu/.local/lib/python3.8/site-packages (from pandas) (2023.3)\n",
      "Requirement already satisfied: six>=1.5 in /usr/lib/python3/dist-packages (from python-dateutil>=2.8.2->pandas) (1.14.0)\n",
      "Requirement already satisfied: scikit-learn in /home/ubuntu/.local/lib/python3.8/site-packages (1.2.2)\n",
      "Requirement already satisfied: numpy>=1.17.3 in /home/ubuntu/.local/lib/python3.8/site-packages (from scikit-learn) (1.24.3)\n",
      "Requirement already satisfied: threadpoolctl>=2.0.0 in /home/ubuntu/.local/lib/python3.8/site-packages (from scikit-learn) (3.1.0)\n",
      "Requirement already satisfied: scipy>=1.3.2 in /home/ubuntu/.local/lib/python3.8/site-packages (from scikit-learn) (1.10.1)\n",
      "Requirement already satisfied: joblib>=1.1.1 in /home/ubuntu/.local/lib/python3.8/site-packages (from scikit-learn) (1.2.0)\n",
      "Requirement already satisfied: openpyxl in /home/ubuntu/.local/lib/python3.8/site-packages (3.1.2)\n",
      "Requirement already satisfied: et-xmlfile in /home/ubuntu/.local/lib/python3.8/site-packages (from openpyxl) (1.1.0)\n"
     ]
    }
   ],
   "source": [
    "!pip install pandas\n",
    "!pip install scikit-learn\n",
    "!pip install openpyxl"
   ]
  },
  {
   "cell_type": "code",
   "execution_count": 145,
   "metadata": {},
   "outputs": [
    {
     "data": {
      "text/html": [
       "<div>\n",
       "<style scoped>\n",
       "    .dataframe tbody tr th:only-of-type {\n",
       "        vertical-align: middle;\n",
       "    }\n",
       "\n",
       "    .dataframe tbody tr th {\n",
       "        vertical-align: top;\n",
       "    }\n",
       "\n",
       "    .dataframe thead th {\n",
       "        text-align: right;\n",
       "    }\n",
       "</style>\n",
       "<table border=\"1\" class=\"dataframe\">\n",
       "  <thead>\n",
       "    <tr style=\"text-align: right;\">\n",
       "      <th></th>\n",
       "      <th>Month</th>\n",
       "      <th>Passengers</th>\n",
       "    </tr>\n",
       "  </thead>\n",
       "  <tbody>\n",
       "    <tr>\n",
       "      <th>0</th>\n",
       "      <td>1949-01</td>\n",
       "      <td>112</td>\n",
       "    </tr>\n",
       "    <tr>\n",
       "      <th>1</th>\n",
       "      <td>1949-02</td>\n",
       "      <td>118</td>\n",
       "    </tr>\n",
       "    <tr>\n",
       "      <th>2</th>\n",
       "      <td>1949-03</td>\n",
       "      <td>132</td>\n",
       "    </tr>\n",
       "    <tr>\n",
       "      <th>3</th>\n",
       "      <td>1949-04</td>\n",
       "      <td>129</td>\n",
       "    </tr>\n",
       "    <tr>\n",
       "      <th>4</th>\n",
       "      <td>1949-05</td>\n",
       "      <td>121</td>\n",
       "    </tr>\n",
       "    <tr>\n",
       "      <th>...</th>\n",
       "      <td>...</td>\n",
       "      <td>...</td>\n",
       "    </tr>\n",
       "    <tr>\n",
       "      <th>139</th>\n",
       "      <td>1960-08</td>\n",
       "      <td>606</td>\n",
       "    </tr>\n",
       "    <tr>\n",
       "      <th>140</th>\n",
       "      <td>1960-09</td>\n",
       "      <td>508</td>\n",
       "    </tr>\n",
       "    <tr>\n",
       "      <th>141</th>\n",
       "      <td>1960-10</td>\n",
       "      <td>461</td>\n",
       "    </tr>\n",
       "    <tr>\n",
       "      <th>142</th>\n",
       "      <td>1960-11</td>\n",
       "      <td>390</td>\n",
       "    </tr>\n",
       "    <tr>\n",
       "      <th>143</th>\n",
       "      <td>1960-12</td>\n",
       "      <td>432</td>\n",
       "    </tr>\n",
       "  </tbody>\n",
       "</table>\n",
       "<p>144 rows × 2 columns</p>\n",
       "</div>"
      ],
      "text/plain": [
       "       Month  Passengers\n",
       "0    1949-01         112\n",
       "1    1949-02         118\n",
       "2    1949-03         132\n",
       "3    1949-04         129\n",
       "4    1949-05         121\n",
       "..       ...         ...\n",
       "139  1960-08         606\n",
       "140  1960-09         508\n",
       "141  1960-10         461\n",
       "142  1960-11         390\n",
       "143  1960-12         432\n",
       "\n",
       "[144 rows x 2 columns]"
      ]
     },
     "execution_count": 145,
     "metadata": {},
     "output_type": "execute_result"
    }
   ],
   "source": [
    "import pandas as pd\n",
    "\n",
    "df = pd.read_csv('airline-passengers.csv')\n",
    "df"
   ]
  },
  {
   "cell_type": "code",
   "execution_count": 146,
   "metadata": {},
   "outputs": [
    {
     "data": {
      "text/plain": [
       "0      112\n",
       "1      118\n",
       "2      132\n",
       "3      129\n",
       "4      121\n",
       "      ... \n",
       "139    606\n",
       "140    508\n",
       "141    461\n",
       "142    390\n",
       "143    432\n",
       "Name: Passengers, Length: 144, dtype: int64"
      ]
     },
     "execution_count": 146,
     "metadata": {},
     "output_type": "execute_result"
    }
   ],
   "source": [
    "data = df['Passengers']\n",
    "data"
   ]
  },
  {
   "cell_type": "code",
   "execution_count": 147,
   "metadata": {},
   "outputs": [
    {
     "data": {
      "text/html": [
       "<div>\n",
       "<style scoped>\n",
       "    .dataframe tbody tr th:only-of-type {\n",
       "        vertical-align: middle;\n",
       "    }\n",
       "\n",
       "    .dataframe tbody tr th {\n",
       "        vertical-align: top;\n",
       "    }\n",
       "\n",
       "    .dataframe thead th {\n",
       "        text-align: right;\n",
       "    }\n",
       "</style>\n",
       "<table border=\"1\" class=\"dataframe\">\n",
       "  <thead>\n",
       "    <tr style=\"text-align: right;\">\n",
       "      <th></th>\n",
       "      <th>Passengers</th>\n",
       "    </tr>\n",
       "  </thead>\n",
       "  <tbody>\n",
       "    <tr>\n",
       "      <th>0</th>\n",
       "      <td>112</td>\n",
       "    </tr>\n",
       "    <tr>\n",
       "      <th>1</th>\n",
       "      <td>118</td>\n",
       "    </tr>\n",
       "    <tr>\n",
       "      <th>2</th>\n",
       "      <td>132</td>\n",
       "    </tr>\n",
       "    <tr>\n",
       "      <th>3</th>\n",
       "      <td>129</td>\n",
       "    </tr>\n",
       "    <tr>\n",
       "      <th>4</th>\n",
       "      <td>121</td>\n",
       "    </tr>\n",
       "    <tr>\n",
       "      <th>...</th>\n",
       "      <td>...</td>\n",
       "    </tr>\n",
       "    <tr>\n",
       "      <th>110</th>\n",
       "      <td>362</td>\n",
       "    </tr>\n",
       "    <tr>\n",
       "      <th>111</th>\n",
       "      <td>348</td>\n",
       "    </tr>\n",
       "    <tr>\n",
       "      <th>112</th>\n",
       "      <td>363</td>\n",
       "    </tr>\n",
       "    <tr>\n",
       "      <th>113</th>\n",
       "      <td>435</td>\n",
       "    </tr>\n",
       "    <tr>\n",
       "      <th>114</th>\n",
       "      <td>491</td>\n",
       "    </tr>\n",
       "  </tbody>\n",
       "</table>\n",
       "<p>115 rows × 1 columns</p>\n",
       "</div>"
      ],
      "text/plain": [
       "     Passengers\n",
       "0           112\n",
       "1           118\n",
       "2           132\n",
       "3           129\n",
       "4           121\n",
       "..          ...\n",
       "110         362\n",
       "111         348\n",
       "112         363\n",
       "113         435\n",
       "114         491\n",
       "\n",
       "[115 rows x 1 columns]"
      ]
     },
     "execution_count": 147,
     "metadata": {},
     "output_type": "execute_result"
    }
   ],
   "source": [
    "n = len(data)\n",
    "sizeTrain = (round(n*0.8))\n",
    "data_train = pd.DataFrame(data[:sizeTrain])\n",
    "data_test = pd.DataFrame(data[sizeTrain:])\n",
    "data_train"
   ]
  },
  {
   "cell_type": "code",
   "execution_count": 148,
   "metadata": {},
   "outputs": [
    {
     "data": {
      "text/plain": [
       "0     1.036176\n",
       "1     0.775194\n",
       "2     0.658915\n",
       "3     0.532300\n",
       "4     0.602067\n",
       "5     0.661499\n",
       "6     0.614987\n",
       "7     0.780362\n",
       "8     0.754522\n",
       "9     0.816537\n",
       "10    0.950904\n",
       "11    1.147287\n",
       "12    1.175711\n",
       "13    0.927649\n",
       "14    0.782946\n",
       "15    0.666667\n",
       "16    0.777778\n",
       "17    0.808786\n",
       "18    0.741602\n",
       "19    0.813953\n",
       "20    0.922481\n",
       "21    0.950904\n",
       "22    1.113695\n",
       "23    1.338501\n",
       "24    1.297158\n",
       "25    1.043928\n",
       "26    0.922481\n",
       "27    0.739018\n",
       "28    0.847545\n",
       "Name: data, dtype: float64"
      ]
     },
     "execution_count": 148,
     "metadata": {},
     "output_type": "execute_result"
    }
   ],
   "source": [
    "from sklearn.preprocessing import MinMaxScaler\n",
    "scaler = MinMaxScaler()\n",
    "train_scaled = scaler.fit_transform(data_train)\n",
    "\n",
    "\n",
    "# sc = MinMaxScaler(feature_range = (0, 1))\n",
    "# training_set_scaled = sc.fit_transform(data_train)\n",
    "\n",
    "# Mengaplikasikan MinMaxScaler pada data pengujian\n",
    "test_scaled = scaler.transform(data_test)\n",
    "\n",
    "# reshaped_data = data.reshape(-1, 1)\n",
    "train = pd.DataFrame(train_scaled, columns = ['data'])\n",
    "train = train['data']\n",
    "\n",
    "test = pd.DataFrame(test_scaled, columns = ['data'])\n",
    "test = test['data']\n",
    "test\n",
    "\n"
   ]
  },
  {
   "cell_type": "code",
   "execution_count": 149,
   "metadata": {},
   "outputs": [],
   "source": [
    "def split_sequence(sequence, n_steps):\n",
    "  X, y = list(), list()\n",
    "  for i in range(len(sequence)):\n",
    "    # find the end of this pattern\n",
    "    end_ix = i + n_steps\n",
    "    # check if we are beyond the sequence\n",
    "    if end_ix > len(sequence)-1:\n",
    "      break\n",
    "    # gather input and output parts of the pattern\n",
    "    seq_x, seq_y = sequence[i:end_ix], sequence[end_ix]\n",
    "    X.append(seq_x)\n",
    "    y.append(seq_y)\n",
    "  \n",
    "  return array(X), array(y)"
   ]
  },
  {
   "cell_type": "code",
   "execution_count": 150,
   "metadata": {},
   "outputs": [],
   "source": [
    "df_X, df_Y = split_sequence(train, 2)\n",
    "# for i in range(len(df_X)):\n",
    "#   print(df_X[i], df_Y[i])\n",
    "x = pd.DataFrame(df_X, columns = ['xt-2','xt-1'])\n",
    "y = pd.DataFrame(df_Y, columns = ['xt'])\n",
    "dataset_train = pd.concat([x, y], axis=1)\n",
    "dataset_train\n",
    "dataset_train.to_excel('data-train.xlsx', index=False)\n"
   ]
  },
  {
   "cell_type": "code",
   "execution_count": 151,
   "metadata": {},
   "outputs": [
    {
     "data": {
      "text/plain": [
       "array([[0.02067183, 0.03617571],\n",
       "       [0.03617571, 0.07235142],\n",
       "       [0.07235142, 0.06459948],\n",
       "       [0.06459948, 0.04392765],\n",
       "       [0.04392765, 0.08010336],\n",
       "       [0.08010336, 0.11369509],\n",
       "       [0.11369509, 0.11369509],\n",
       "       [0.11369509, 0.08268734],\n",
       "       [0.08268734, 0.03875969],\n",
       "       [0.03875969, 0.        ],\n",
       "       [0.        , 0.03617571],\n",
       "       [0.03617571, 0.02842377],\n",
       "       [0.02842377, 0.05684755],\n",
       "       [0.05684755, 0.09560724],\n",
       "       [0.09560724, 0.08010336],\n",
       "       [0.08010336, 0.05426357],\n",
       "       [0.05426357, 0.11627907],\n",
       "       [0.11627907, 0.17054264],\n",
       "       [0.17054264, 0.17054264],\n",
       "       [0.17054264, 0.13953488],\n",
       "       [0.13953488, 0.0749354 ],\n",
       "       [0.0749354 , 0.02583979],\n",
       "       [0.02583979, 0.09302326],\n",
       "       [0.09302326, 0.10594315],\n",
       "       [0.10594315, 0.11886305],\n",
       "       [0.11886305, 0.19121447],\n",
       "       [0.19121447, 0.15245478],\n",
       "       [0.15245478, 0.17571059],\n",
       "       [0.17571059, 0.19121447],\n",
       "       [0.19121447, 0.24547804],\n",
       "       [0.24547804, 0.24547804],\n",
       "       [0.24547804, 0.20671835],\n",
       "       [0.20671835, 0.1498708 ],\n",
       "       [0.1498708 , 0.10852713],\n",
       "       [0.10852713, 0.16020672],\n",
       "       [0.16020672, 0.17312661],\n",
       "       [0.17312661, 0.19638243],\n",
       "       [0.19638243, 0.22997416],\n",
       "       [0.22997416, 0.19896641],\n",
       "       [0.19896641, 0.20413437],\n",
       "       [0.20413437, 0.29457364],\n",
       "       [0.29457364, 0.3255814 ],\n",
       "       [0.3255814 , 0.35658915],\n",
       "       [0.35658915, 0.27131783],\n",
       "       [0.27131783, 0.2248062 ],\n",
       "       [0.2248062 , 0.17571059],\n",
       "       [0.17571059, 0.23255814],\n",
       "       [0.23255814, 0.2377261 ],\n",
       "       [0.2377261 , 0.2377261 ],\n",
       "       [0.2377261 , 0.34108527],\n",
       "       [0.34108527, 0.33850129],\n",
       "       [0.33850129, 0.32299742],\n",
       "       [0.32299742, 0.35917313],\n",
       "       [0.35917313, 0.41343669],\n",
       "       [0.41343669, 0.43410853],\n",
       "       [0.43410853, 0.34366925],\n",
       "       [0.34366925, 0.27648579],\n",
       "       [0.27648579, 0.19638243],\n",
       "       [0.19638243, 0.25064599],\n",
       "       [0.25064599, 0.25839793],\n",
       "       [0.25839793, 0.21705426],\n",
       "       [0.21705426, 0.33850129],\n",
       "       [0.33850129, 0.31782946],\n",
       "       [0.31782946, 0.33591731],\n",
       "       [0.33591731, 0.41343669],\n",
       "       [0.41343669, 0.51162791],\n",
       "       [0.51162791, 0.48837209],\n",
       "       [0.48837209, 0.4005168 ],\n",
       "       [0.4005168 , 0.32299742],\n",
       "       [0.32299742, 0.25581395],\n",
       "       [0.25581395, 0.32299742],\n",
       "       [0.32299742, 0.35658915],\n",
       "       [0.35658915, 0.33333333],\n",
       "       [0.33333333, 0.42118863],\n",
       "       [0.42118863, 0.42635659],\n",
       "       [0.42635659, 0.42894057],\n",
       "       [0.42894057, 0.54521964],\n",
       "       [0.54521964, 0.67183463],\n",
       "       [0.67183463, 0.62790698],\n",
       "       [0.62790698, 0.5374677 ],\n",
       "       [0.5374677 , 0.43927649],\n",
       "       [0.43927649, 0.34366925],\n",
       "       [0.34366925, 0.4496124 ],\n",
       "       [0.4496124 , 0.46511628],\n",
       "       [0.46511628, 0.44702842],\n",
       "       [0.44702842, 0.5503876 ],\n",
       "       [0.5503876 , 0.54005168],\n",
       "       [0.54005168, 0.55297158],\n",
       "       [0.55297158, 0.69767442],\n",
       "       [0.69767442, 0.79844961],\n",
       "       [0.79844961, 0.77777778],\n",
       "       [0.77777778, 0.64857881],\n",
       "       [0.64857881, 0.52196382],\n",
       "       [0.52196382, 0.43152455],\n",
       "       [0.43152455, 0.52196382],\n",
       "       [0.52196382, 0.54521964],\n",
       "       [0.54521964, 0.50904393],\n",
       "       [0.50904393, 0.65116279],\n",
       "       [0.65116279, 0.63049096],\n",
       "       [0.63049096, 0.64857881],\n",
       "       [0.64857881, 0.82170543],\n",
       "       [0.82170543, 0.93281654],\n",
       "       [0.93281654, 0.9379845 ],\n",
       "       [0.9379845 , 0.7751938 ],\n",
       "       [0.7751938 , 0.62790698],\n",
       "       [0.62790698, 0.51937984],\n",
       "       [0.51937984, 0.5994832 ],\n",
       "       [0.5994832 , 0.60981912],\n",
       "       [0.60981912, 0.55297158],\n",
       "       [0.55297158, 0.66666667],\n",
       "       [0.66666667, 0.63049096],\n",
       "       [0.63049096, 0.66925065],\n",
       "       [0.66925065, 0.85529716]])"
      ]
     },
     "execution_count": 151,
     "metadata": {},
     "output_type": "execute_result"
    }
   ],
   "source": [
    "X_train = dataset_train.iloc[:, :2].values\n",
    "Y_train = dataset_train.iloc[:, -1].values\n",
    "X_train"
   ]
  },
  {
   "cell_type": "code",
   "execution_count": 152,
   "metadata": {},
   "outputs": [],
   "source": [
    "test_x, test_y = split_sequence(test, 2)\n",
    "# for i in range(len(test_x)):\n",
    "#   print(test_x[i], test_y[i])\n",
    "x = pd.DataFrame(test_x, columns = ['xt-2','xt-1'])\n",
    "y = pd.DataFrame(test_y, columns = ['xt'])\n",
    "dataset_test = pd.concat([x, y], axis=1)\n",
    "dataset_test\n",
    "dataset_test.to_excel('data-test.xlsx', index=False)\n"
   ]
  },
  {
   "cell_type": "code",
   "execution_count": 153,
   "metadata": {},
   "outputs": [
    {
     "name": "stdout",
     "output_type": "stream",
     "text": [
      "27\n"
     ]
    }
   ],
   "source": [
    "X_test = dataset_test.iloc[:, :2].values\n",
    "Y_test = dataset_test.iloc[:, -1].values\n",
    "print(len(X_test))\n"
   ]
  },
  {
   "cell_type": "code",
   "execution_count": 157,
   "metadata": {},
   "outputs": [
    {
     "data": {
      "text/html": [
       "<style>#sk-container-id-6 {color: black;background-color: white;}#sk-container-id-6 pre{padding: 0;}#sk-container-id-6 div.sk-toggleable {background-color: white;}#sk-container-id-6 label.sk-toggleable__label {cursor: pointer;display: block;width: 100%;margin-bottom: 0;padding: 0.3em;box-sizing: border-box;text-align: center;}#sk-container-id-6 label.sk-toggleable__label-arrow:before {content: \"▸\";float: left;margin-right: 0.25em;color: #696969;}#sk-container-id-6 label.sk-toggleable__label-arrow:hover:before {color: black;}#sk-container-id-6 div.sk-estimator:hover label.sk-toggleable__label-arrow:before {color: black;}#sk-container-id-6 div.sk-toggleable__content {max-height: 0;max-width: 0;overflow: hidden;text-align: left;background-color: #f0f8ff;}#sk-container-id-6 div.sk-toggleable__content pre {margin: 0.2em;color: black;border-radius: 0.25em;background-color: #f0f8ff;}#sk-container-id-6 input.sk-toggleable__control:checked~div.sk-toggleable__content {max-height: 200px;max-width: 100%;overflow: auto;}#sk-container-id-6 input.sk-toggleable__control:checked~label.sk-toggleable__label-arrow:before {content: \"▾\";}#sk-container-id-6 div.sk-estimator input.sk-toggleable__control:checked~label.sk-toggleable__label {background-color: #d4ebff;}#sk-container-id-6 div.sk-label input.sk-toggleable__control:checked~label.sk-toggleable__label {background-color: #d4ebff;}#sk-container-id-6 input.sk-hidden--visually {border: 0;clip: rect(1px 1px 1px 1px);clip: rect(1px, 1px, 1px, 1px);height: 1px;margin: -1px;overflow: hidden;padding: 0;position: absolute;width: 1px;}#sk-container-id-6 div.sk-estimator {font-family: monospace;background-color: #f0f8ff;border: 1px dotted black;border-radius: 0.25em;box-sizing: border-box;margin-bottom: 0.5em;}#sk-container-id-6 div.sk-estimator:hover {background-color: #d4ebff;}#sk-container-id-6 div.sk-parallel-item::after {content: \"\";width: 100%;border-bottom: 1px solid gray;flex-grow: 1;}#sk-container-id-6 div.sk-label:hover label.sk-toggleable__label {background-color: #d4ebff;}#sk-container-id-6 div.sk-serial::before {content: \"\";position: absolute;border-left: 1px solid gray;box-sizing: border-box;top: 0;bottom: 0;left: 50%;z-index: 0;}#sk-container-id-6 div.sk-serial {display: flex;flex-direction: column;align-items: center;background-color: white;padding-right: 0.2em;padding-left: 0.2em;position: relative;}#sk-container-id-6 div.sk-item {position: relative;z-index: 1;}#sk-container-id-6 div.sk-parallel {display: flex;align-items: stretch;justify-content: center;background-color: white;position: relative;}#sk-container-id-6 div.sk-item::before, #sk-container-id-6 div.sk-parallel-item::before {content: \"\";position: absolute;border-left: 1px solid gray;box-sizing: border-box;top: 0;bottom: 0;left: 50%;z-index: -1;}#sk-container-id-6 div.sk-parallel-item {display: flex;flex-direction: column;z-index: 1;position: relative;background-color: white;}#sk-container-id-6 div.sk-parallel-item:first-child::after {align-self: flex-end;width: 50%;}#sk-container-id-6 div.sk-parallel-item:last-child::after {align-self: flex-start;width: 50%;}#sk-container-id-6 div.sk-parallel-item:only-child::after {width: 0;}#sk-container-id-6 div.sk-dashed-wrapped {border: 1px dashed gray;margin: 0 0.4em 0.5em 0.4em;box-sizing: border-box;padding-bottom: 0.4em;background-color: white;}#sk-container-id-6 div.sk-label label {font-family: monospace;font-weight: bold;display: inline-block;line-height: 1.2em;}#sk-container-id-6 div.sk-label-container {text-align: center;}#sk-container-id-6 div.sk-container {/* jupyter's `normalize.less` sets `[hidden] { display: none; }` but bootstrap.min.css set `[hidden] { display: none !important; }` so we also need the `!important` here to be able to override the default hidden behavior on the sphinx rendered scikit-learn.org. See: https://github.com/scikit-learn/scikit-learn/issues/21755 */display: inline-block !important;position: relative;}#sk-container-id-6 div.sk-text-repr-fallback {display: none;}</style><div id=\"sk-container-id-6\" class=\"sk-top-container\"><div class=\"sk-text-repr-fallback\"><pre>KNeighborsRegressor(n_neighbors=6)</pre><b>In a Jupyter environment, please rerun this cell to show the HTML representation or trust the notebook. <br />On GitHub, the HTML representation is unable to render, please try loading this page with nbviewer.org.</b></div><div class=\"sk-container\" hidden><div class=\"sk-item\"><div class=\"sk-estimator sk-toggleable\"><input class=\"sk-toggleable__control sk-hidden--visually\" id=\"sk-estimator-id-6\" type=\"checkbox\" checked><label for=\"sk-estimator-id-6\" class=\"sk-toggleable__label sk-toggleable__label-arrow\">KNeighborsRegressor</label><div class=\"sk-toggleable__content\"><pre>KNeighborsRegressor(n_neighbors=6)</pre></div></div></div></div></div>"
      ],
      "text/plain": [
       "KNeighborsRegressor(n_neighbors=6)"
      ]
     },
     "execution_count": 157,
     "metadata": {},
     "output_type": "execute_result"
    }
   ],
   "source": [
    "from sklearn.neighbors import KNeighborsRegressor\n",
    "neigh = KNeighborsRegressor(n_neighbors=6)\n",
    "neigh.fit(X_train,Y_train)"
   ]
  },
  {
   "cell_type": "code",
   "execution_count": 158,
   "metadata": {},
   "outputs": [],
   "source": [
    "y_pred=neigh.predict(X_test)\n",
    "reshaped_data = y_pred.reshape(-1, 1)\n",
    "original_data = scaler.inverse_transform(reshaped_data)\n",
    "reshaped_datates = Y_test.reshape(-1, 1)\n",
    "actual_test = scaler.inverse_transform(reshaped_datates)\n",
    "# print(original_data)\n",
    "# print(actual_test)\n",
    "akhir1 = pd.DataFrame(original_data)\n",
    "akhir1.to_excel('prediksi.xlsx', index=False)\n",
    "akhir = pd.DataFrame(actual_test)\n",
    "akhir.to_excel('aktual.xlsx', index=False)"
   ]
  },
  {
   "cell_type": "code",
   "execution_count": 159,
   "metadata": {},
   "outputs": [
    {
     "name": "stdout",
     "output_type": "stream",
     "text": [
      "0.15974191633510715\n"
     ]
    }
   ],
   "source": [
    "from sklearn.metrics import mean_absolute_percentage_error\n",
    "mean_absolute_percentage_error(original_data, actual_test)\n",
    "print(mean_absolute_percentage_error(original_data, actual_test))"
   ]
  }
 ],
 "metadata": {
  "language_info": {
   "name": "python"
  },
  "orig_nbformat": 4
 },
 "nbformat": 4,
 "nbformat_minor": 2
}
